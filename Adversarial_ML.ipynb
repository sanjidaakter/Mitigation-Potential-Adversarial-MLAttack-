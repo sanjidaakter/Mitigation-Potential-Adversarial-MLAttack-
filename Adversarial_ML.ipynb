{
  "nbformat": 4,
  "nbformat_minor": 0,
  "metadata": {
    "colab": {
      "name": "CSC-6575-Adversarial-ML.ipynb",
      "provenance": []
    },
    "kernelspec": {
      "name": "python3",
      "display_name": "Python 3"
    },
    "language_info": {
      "name": "python"
    }
  },
  "cells": [
    {
      "cell_type": "code",
      "metadata": {
        "colab": {
          "base_uri": "https://localhost:8080/"
        },
        "id": "DG8VPwTWCesI",
        "outputId": "698882ae-d8c9-46a6-e3f0-e6a178d4cefe"
      },
      "source": [
        "!pip install git+https://github.com/tensorflow/cleverhans.git#egg=cleverhans\n"
      ],
      "execution_count": null,
      "outputs": [
        {
          "output_type": "stream",
          "name": "stdout",
          "text": [
            "Collecting cleverhans\n",
            "  Cloning https://github.com/tensorflow/cleverhans.git to /tmp/pip-install-01afgulv/cleverhans_375dd899dc4b4c96ac231a3d80686227\n",
            "  Running command git clone -q https://github.com/tensorflow/cleverhans.git /tmp/pip-install-01afgulv/cleverhans_375dd899dc4b4c96ac231a3d80686227\n",
            "Requirement already satisfied: nose in /usr/local/lib/python3.7/dist-packages (from cleverhans) (1.3.7)\n",
            "Requirement already satisfied: pycodestyle in /usr/local/lib/python3.7/dist-packages (from cleverhans) (2.8.0)\n",
            "Requirement already satisfied: scipy in /usr/local/lib/python3.7/dist-packages (from cleverhans) (1.4.1)\n",
            "Requirement already satisfied: matplotlib in /usr/local/lib/python3.7/dist-packages (from cleverhans) (3.2.2)\n",
            "Requirement already satisfied: mnist in /usr/local/lib/python3.7/dist-packages (from cleverhans) (0.2.2)\n",
            "Requirement already satisfied: numpy in /usr/local/lib/python3.7/dist-packages (from cleverhans) (1.19.5)\n",
            "Requirement already satisfied: tensorflow-probability in /usr/local/lib/python3.7/dist-packages (from cleverhans) (0.15.0)\n",
            "Requirement already satisfied: joblib in /usr/local/lib/python3.7/dist-packages (from cleverhans) (1.1.0)\n",
            "Requirement already satisfied: easydict in /usr/local/lib/python3.7/dist-packages (from cleverhans) (1.9)\n",
            "Requirement already satisfied: absl-py in /usr/local/lib/python3.7/dist-packages (from cleverhans) (0.12.0)\n",
            "Requirement already satisfied: six in /usr/local/lib/python3.7/dist-packages (from cleverhans) (1.15.0)\n",
            "Requirement already satisfied: kiwisolver>=1.0.1 in /usr/local/lib/python3.7/dist-packages (from matplotlib->cleverhans) (1.3.2)\n",
            "Requirement already satisfied: cycler>=0.10 in /usr/local/lib/python3.7/dist-packages (from matplotlib->cleverhans) (0.11.0)\n",
            "Requirement already satisfied: python-dateutil>=2.1 in /usr/local/lib/python3.7/dist-packages (from matplotlib->cleverhans) (2.8.2)\n",
            "Requirement already satisfied: pyparsing!=2.0.4,!=2.1.2,!=2.1.6,>=2.0.1 in /usr/local/lib/python3.7/dist-packages (from matplotlib->cleverhans) (3.0.6)\n",
            "Requirement already satisfied: decorator in /usr/local/lib/python3.7/dist-packages (from tensorflow-probability->cleverhans) (4.4.2)\n",
            "Requirement already satisfied: dm-tree in /usr/local/lib/python3.7/dist-packages (from tensorflow-probability->cleverhans) (0.1.6)\n",
            "Requirement already satisfied: gast>=0.3.2 in /usr/local/lib/python3.7/dist-packages (from tensorflow-probability->cleverhans) (0.4.0)\n",
            "Requirement already satisfied: cloudpickle>=1.3 in /usr/local/lib/python3.7/dist-packages (from tensorflow-probability->cleverhans) (1.3.0)\n"
          ]
        }
      ]
    },
    {
      "cell_type": "code",
      "metadata": {
        "colab": {
          "base_uri": "https://localhost:8080/"
        },
        "id": "PeVHHRvOChrn",
        "outputId": "83a59363-de43-4578-9be9-d6e648ea821f"
      },
      "source": [
        "from keras.datasets import mnist\n",
        "from keras import Sequential\n",
        "from keras.layers import Dense, BatchNormalization\n",
        "from keras import backend\n",
        "import keras\n",
        "import tensorflow as tf\n",
        "import cleverhans\n",
        "print(\"\\n Tensorflow Version: \" + tf.__version__)\n",
        "print(\"\\n Cleverhans Version: \" + cleverhans.__version__)\n",
        "import numpy as np\n",
        "import matplotlib.pyplot as plt\n",
        "from sklearn.decomposition import PCA\n",
        "from cleverhans.tf2.attacks import fast_gradient_method as fgsm\n",
        "\n",
        "#from cleverhans.attacks import FastGradientMethod, MadryEtAl, DeepFool, CarliniWagnerL2"
      ],
      "execution_count": null,
      "outputs": [
        {
          "output_type": "stream",
          "name": "stdout",
          "text": [
            "\n",
            " Tensorflow Version: 2.7.0\n",
            "\n",
            " Cleverhans Version: 4.0.0-242afd7ec8f9546baeb1168438446ce1\n"
          ]
        }
      ]
    },
    {
      "cell_type": "markdown",
      "source": [
        ""
      ],
      "metadata": {
        "id": "M66DqY9kX4Hz"
      }
    },
    {
      "cell_type": "code",
      "metadata": {
        "colab": {
          "base_uri": "https://localhost:8080/"
        },
        "id": "4mScq0fCD1Gw",
        "outputId": "fa801bca-ac1c-459a-c9d7-8b4a6215ffae"
      },
      "source": [
        "import tensorflow.keras as keras\n",
        "\n",
        "mnist = tf.keras.datasets.mnist\n",
        "\n",
        "#this dataset is already split into training and testing sets\n",
        "(x_train, y_train), (x_test, y_test) = mnist.load_data()\n",
        "x_train, x_test = x_train / 255.0, x_test / 255.0\n",
        "\n",
        "# Make sure images have shape (28, 28, 1)\n",
        "x_train = np.expand_dims(x_train, -1)\n",
        "x_test = np.expand_dims(x_test, -1)\n",
        "\n",
        "print(\"x_train.shape = \", x_train.shape)\n",
        "print(\"y_train.shape = \", y_train.shape)\n",
        "print(\"x_test.shape = \", x_test.shape)\n",
        "print(\"y_test.shape = \", y_test.shape)\n",
        "\n",
        "\n",
        "# The labels are currently a single array of values\n",
        "# We need to convert this into a one-hot encoded array\n",
        "# i.e., 5 -> [0,0,0,0,0,1,0,0,0,0]\n",
        "# We'll see why in a few cells\n",
        "\n",
        "y_train_categorical = keras.utils.to_categorical(y_train)\n",
        "y_test_categorical = keras.utils.to_categorical(y_test)\n",
        "print(\"y_train.shape = \", y_train.shape)\n",
        "print(\"y_test.shape = \", y_test.shape)\n"
      ],
      "execution_count": null,
      "outputs": [
        {
          "output_type": "stream",
          "name": "stdout",
          "text": [
            "x_train.shape =  (60000, 28, 28, 1)\n",
            "y_train.shape =  (60000,)\n",
            "x_test.shape =  (10000, 28, 28, 1)\n",
            "y_test.shape =  (10000,)\n",
            "y_train.shape =  (60000,)\n",
            "y_test.shape =  (10000,)\n"
          ]
        }
      ]
    },
    {
      "cell_type": "code",
      "metadata": {
        "colab": {
          "base_uri": "https://localhost:8080/"
        },
        "id": "6XyBsJTNEAJR",
        "outputId": "08a76e38-fd80-485e-d8ed-29a5c33a6a9a"
      },
      "source": [
        "def create_simple_cnn():\n",
        "  input_shape = (28,28,1)\n",
        "\n",
        "  network = keras.Sequential()\n",
        "  network.add(keras.layers.Conv2D(10, input_shape=input_shape, kernel_size=(3,3), strides=(1,1), padding='same', activation='relu')) #The more conV layer we add, we can extract more features from images---mycomment\n",
        "  network.add(keras.layers.Conv2D(50, kernel_size=(3,3), strides=(1,1), padding='same', activation='relu'))\n",
        "  network.add(keras.layers.MaxPool2D(pool_size=(2,2)))\n",
        "  network.add(keras.layers.Dropout(0.25))\n",
        "  network.add(keras.layers.Flatten())\n",
        "  network.add(keras.layers.Dense(500, activation='relu'))\n",
        "  network.add(keras.layers.Dense(10, activation='softmax'))\n",
        "  return network\n",
        "\n",
        "network = create_simple_cnn()\n",
        "network.compile(optimizer=\"adam\", #standard optimizer\n",
        "                    loss=\"categorical_crossentropy\", #standard for multi-class problems\n",
        "                    metrics=[\"accuracy\"])\n",
        "network.summary()\n",
        "\n",
        "\n",
        "\n",
        "simple_cnn_history = network.fit(x=x_train, \n",
        "                                    y=y_train_categorical, \n",
        "                                    epochs=3,\n",
        "                                    validation_split=0.1)\n",
        "\n",
        "# Evaluate the model.\n",
        "# We'll just evaluate accuracy for now. Later we'll abstract this to its own function\n",
        "# and evaluate accuracy, f1, and area under the ROC curve \n",
        "predictions_simple_cnn = network.predict(x_test)\n",
        "# Convert the categorical predictions back to labels for calculating metrics\n",
        "predictions_simple_cnn = [np.argmax(pred) for pred in predictions_simple_cnn]\n",
        "m = tf.keras.metrics.Accuracy()\n",
        "m.update_state(y_test, predictions_simple_cnn)\n",
        "print(\"Accuracy of trained model: \",m.result().numpy())\n",
        "\n",
        "network.save('MNIST_cnn.h5')"
      ],
      "execution_count": null,
      "outputs": [
        {
          "output_type": "stream",
          "name": "stdout",
          "text": [
            "Model: \"sequential_1\"\n",
            "_________________________________________________________________\n",
            " Layer (type)                Output Shape              Param #   \n",
            "=================================================================\n",
            " conv2d_2 (Conv2D)           (None, 28, 28, 10)        100       \n",
            "                                                                 \n",
            " conv2d_3 (Conv2D)           (None, 28, 28, 50)        4550      \n",
            "                                                                 \n",
            " max_pooling2d_1 (MaxPooling  (None, 14, 14, 50)       0         \n",
            " 2D)                                                             \n",
            "                                                                 \n",
            " dropout_1 (Dropout)         (None, 14, 14, 50)        0         \n",
            "                                                                 \n",
            " flatten_1 (Flatten)         (None, 9800)              0         \n",
            "                                                                 \n",
            " dense_2 (Dense)             (None, 500)               4900500   \n",
            "                                                                 \n",
            " dense_3 (Dense)             (None, 10)                5010      \n",
            "                                                                 \n",
            "=================================================================\n",
            "Total params: 4,910,160\n",
            "Trainable params: 4,910,160\n",
            "Non-trainable params: 0\n",
            "_________________________________________________________________\n",
            "Epoch 1/3\n",
            "1688/1688 [==============================] - 155s 91ms/step - loss: 0.1174 - accuracy: 0.9643 - val_loss: 0.0410 - val_accuracy: 0.9877\n",
            "Epoch 2/3\n",
            "1688/1688 [==============================] - 154s 91ms/step - loss: 0.0414 - accuracy: 0.9871 - val_loss: 0.0498 - val_accuracy: 0.9838\n",
            "Epoch 3/3\n",
            "1688/1688 [==============================] - 154s 91ms/step - loss: 0.0261 - accuracy: 0.9911 - val_loss: 0.0363 - val_accuracy: 0.9918\n",
            "Accuracy of trained model:  0.9895\n"
          ]
        }
      ]
    },
    {
      "cell_type": "code",
      "metadata": {
        "id": "Mm4rEHk0GWZ_"
      },
      "source": [
        "\n",
        "\n",
        "from keras.models import load_model\n",
        "model = load_model('MNIST_cnn.h5')\n"
      ],
      "execution_count": null,
      "outputs": []
    },
    {
      "cell_type": "markdown",
      "metadata": {
        "id": "9iBVXUOhEk46"
      },
      "source": [
        "Choose Random Attack Image\n"
      ]
    },
    {
      "cell_type": "code",
      "metadata": {
        "colab": {
          "base_uri": "https://localhost:8080/",
          "height": 281
        },
        "id": "fTOSpAP_EhU3",
        "outputId": "707e349e-46d0-4f01-c70d-6dfac1ccfaf5"
      },
      "source": [
        "random_index = np.random.randint(x_test.shape[0])\n",
        "\n",
        "original_image = x_test[random_index]\n",
        "original_image = tf.convert_to_tensor(original_image.reshape((1,28,28))) #The .reshape just gives it the proper form to input into the model, a batch of 1 a.k.a a tensor\n",
        "\n",
        "original_label = y_test[random_index]\n",
        "original_label = np.reshape(original_label, (1,)).astype('int64') # Give label proper shape and type for cleverhans\n",
        "\n",
        "#Show the image\n",
        "plt.figure()\n",
        "plt.grid(False)\n",
        "\n",
        "plt.imshow(np.reshape(original_image, (28,28)))\n",
        "plt.title(\"Label: {}\".format(original_label[0]))\n",
        "\n",
        "plt.show()"
      ],
      "execution_count": null,
      "outputs": [
        {
          "output_type": "display_data",
          "data": {
            "image/png": "[encoded data removed]",
            "text/plain": [
              "<Figure size 432x288 with 1 Axes>"
            ]
          },
          "metadata": {
            "needs_background": "light"
          }
        }
      ]
    },
    {
      "cell_type": "markdown",
      "metadata": {
        "id": "d7_cCF--Ezmw"
      },
      "source": [
        "**Non Targeted FGSM ATTACK**"
      ]
    },
    {
      "cell_type": "code",
      "metadata": {
        "colab": {
          "base_uri": "https://localhost:8080/",
          "height": 295
        },
        "id": "uEdoOEYAFLx3",
        "outputId": "24a48147-db7d-40dc-bb45-c0395cd4a937"
      },
      "source": [
        "epsilon = 0.3\n",
        "\n",
        "adv_example_untargeted_label = fgsm.fast_gradient_method(model, original_image, epsilon, np.inf, targeted=False)\n",
        "\n",
        "adv_example_untargeted_label_pred = model.predict(adv_example_untargeted_label)\n",
        "\n",
        "#Show the image\n",
        "plt.figure()\n",
        "plt.grid(False)\n",
        "\n",
        "plt.imshow(np.reshape(adv_example_untargeted_label, (28,28)))\n",
        "plt.title(\"Model Prediction: {}\".format(np.argmax(adv_example_untargeted_label_pred)))\n",
        "plt.xlabel(\"Original Label: {}\".format(original_label[0]))\n",
        "\n",
        "plt.show()"
      ],
      "execution_count": null,
      "outputs": [
        {
          "output_type": "display_data",
          "data": {
            "image/png": "[encoded data removed]",
            "text/plain": [
              "<Figure size 432x288 with 1 Axes>"
            ]
          },
          "metadata": {
            "needs_background": "light"
          }
        }
      ]
    },
    {
      "cell_type": "markdown",
      "metadata": {
        "id": "8jpZHh1lFRWt"
      },
      "source": [
        "# **Targeted FGSM Attack**"
      ]
    },
    {
      "cell_type": "code",
      "metadata": {
        "colab": {
          "base_uri": "https://localhost:8080/",
          "height": 295
        },
        "id": "ySGnIizsFX5U",
        "outputId": "e6910e39-a26f-4d97-d8ee-30befa4cd7dd"
      },
      "source": [
        "epsilon = 0.9\n",
        "# The target value may have to be changed to work, some images are more easily missclassified as different labels\n",
        "target = 4\n",
        "\n",
        "target_label = np.reshape(target, (1,)).astype('int64') # Give target label proper size and dtype to feed through\n",
        "\n",
        "adv_example_targeted_label = fgsm.fast_gradient_method(model, original_image, epsilon, np.inf, y=target_label, targeted=True)\n",
        "\n",
        "adv_example_targeted_label_pred = model.predict(adv_example_targeted_label)\n",
        "\n",
        "#Show the image\n",
        "plt.figure()\n",
        "plt.grid(False)\n",
        "\n",
        "plt.imshow(np.reshape(adv_example_targeted_label, (28,28)))\n",
        "plt.title(\"Model Prediction: {}\".format(np.argmax(adv_example_targeted_label_pred)))\n",
        "plt.xlabel(\"Original Label: {}\".format(original_label[0]))\n",
        "\n",
        "plt.show()"
      ],
      "execution_count": null,
      "outputs": [
        {
          "output_type": "display_data",
          "data": {
            "image/png": "[encoded data removed]",
            "text/plain": [
              "<Figure size 432x288 with 1 Axes>"
            ]
          },
          "metadata": {
            "needs_background": "light"
          }
        }
      ]
    },
    {
      "cell_type": "markdown",
      "metadata": {
        "id": "QoKKdXOSMMhB"
      },
      "source": [
        "# **Generate Adversarial Data to Check model accuracy**\n"
      ]
    },
    {
      "cell_type": "code",
      "metadata": {
        "colab": {
          "base_uri": "https://localhost:8080/"
        },
        "id": "P46UvoIiNLlv",
        "outputId": "c9f37c4f-e1ee-4b53-e758-4bd2c8289477"
      },
      "source": [
        "epsilon = 0.4\n",
        "adversarial_data = fgsm.fast_gradient_method(model,x_test, epsilon, norm=np.inf)\n",
        "predictions_adversarial = model.predict(adversarial_data)\n",
        "# Convert the categorical predictions back to labels for calculating metrics\n",
        "predictions_adversarial_data = [np.argmax(pred) for pred in predictions_adversarial]\n",
        "m = tf.keras.metrics.Accuracy()\n",
        "m.update_state(y_test, predictions_adversarial_data)\n",
        "print(\"Model accuracy after attack\",m.result().numpy())"
      ],
      "execution_count": null,
      "outputs": [
        {
          "output_type": "stream",
          "name": "stdout",
          "text": [
            "Model accuracy after attack 0.0691\n"
          ]
        }
      ]
    },
    {
      "cell_type": "markdown",
      "metadata": {
        "id": "6xn5FX6ETfUi"
      },
      "source": [
        "# **Train the model with Adversarial Sample**"
      ]
    },
    {
      "cell_type": "code",
      "metadata": {
        "colab": {
          "base_uri": "https://localhost:8080/"
        },
        "id": "b4-jlpOKTmX7",
        "outputId": "22d93365-74b9-4789-f229-25ad87f2c48f"
      },
      "source": [
        "epsilon = 0.2\n",
        "adversarial_data_train = fgsm.fast_gradient_method(model,x_test, epsilon, norm=np.inf)\n",
        "#adversarial_data_train = keras.utils.to_categorical(adversarial_data_train)\n",
        "#print(\"adversarial_data.shape = \", adversarial_data_train.shape)\n",
        "#print(\"adversarial_label.shape = \", y_test.shape)\n",
        "model.fit(adversarial_data_train, y_test_categorical, epochs=2)\n"
      ],
      "execution_count": null,
      "outputs": [
        {
          "output_type": "stream",
          "name": "stdout",
          "text": [
            "Epoch 1/2\n",
            "313/313 [==============================] - 28s 89ms/step - loss: 0.1593 - accuracy: 0.9567\n",
            "Epoch 2/2\n",
            "313/313 [==============================] - 28s 88ms/step - loss: 0.0180 - accuracy: 0.9949\n"
          ]
        },
        {
          "output_type": "execute_result",
          "data": {
            "text/plain": [
              "<keras.callbacks.History at 0x7f930d2d9d10>"
            ]
          },
          "metadata": {},
          "execution_count": 15
        }
      ]
    },
    {
      "cell_type": "markdown",
      "metadata": {
        "id": "-qdQ39jIknHP"
      },
      "source": [
        "# **Test with Adversarial Examples**"
      ]
    },
    {
      "cell_type": "code",
      "metadata": {
        "id": "tTAVifZfUa90",
        "colab": {
          "base_uri": "https://localhost:8080/"
        },
        "outputId": "4c776e3f-db9e-4369-b87d-cf0719a7c5d1"
      },
      "source": [
        "epsilon = 0.05\n",
        "adversarial_data_test = fgsm.fast_gradient_method(model,x_test, epsilon, norm=np.inf)\n",
        "predictions_adversarial_test = model.predict(adversarial_data_test)\n",
        "# Convert the categorical predictions back to labels for calculating metrics\n",
        "predictions_adversarial_data_test = [np.argmax(pred) for pred in predictions_adversarial_test]\n",
        "m = tf.keras.metrics.Accuracy()\n",
        "m.update_state(y_test, predictions_adversarial_data_test)\n",
        "print(\"Model accuracy after attack\",m.result().numpy())"
      ],
      "execution_count": null,
      "outputs": [
        {
          "output_type": "stream",
          "name": "stdout",
          "text": [
            "Model accuracy after attack 0.8428\n"
          ]
        }
      ]
    },
    {
      "cell_type": "markdown",
      "metadata": {
        "id": "I0ENgFnlks2r"
      },
      "source": [
        "# **Test with Regular Examples**"
      ]
    },
    {
      "cell_type": "code",
      "metadata": {
        "colab": {
          "base_uri": "https://localhost:8080/"
        },
        "id": "yT3OJp7cky5M",
        "outputId": "0d0d53ef-70da-4c7c-8467-dd74de9ea155"
      },
      "source": [
        "regular_data_test = model.predict(x_test)\n",
        "# Convert the categorical predictions back to labels for calculating metrics\n",
        "predictions = [np.argmax(pred) for pred in regular_data_test]\n",
        "m = tf.keras.metrics.Accuracy()\n",
        "m.update_state(y_test, predictions)\n",
        "print(m.result().numpy())"
      ],
      "execution_count": null,
      "outputs": [
        {
          "output_type": "stream",
          "name": "stdout",
          "text": [
            "0.9905\n"
          ]
        }
      ]
    }
  ]
}